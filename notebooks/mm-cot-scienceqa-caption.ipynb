{
 "cells": [
  {
   "cell_type": "code",
   "execution_count": 2,
   "id": "50b35ab3",
   "metadata": {},
   "outputs": [
    {
     "name": "stdout",
     "output_type": "stream",
     "text": [
      "Requirement already satisfied: huggingface-hub>=0.4.0 in c:\\users\\pakale\\anaconda3\\lib\\site-packages (from -r requirements.txt (line 1)) (0.17.1)\n",
      "Requirement already satisfied: numpy==1.23.2 in c:\\users\\pakale\\anaconda3\\lib\\site-packages (from -r requirements.txt (line 2)) (1.23.2)\n",
      "Requirement already satisfied: openai==0.23.0 in c:\\users\\pakale\\anaconda3\\lib\\site-packages (from -r requirements.txt (line 3)) (0.23.0)\n",
      "Requirement already satisfied: pandas==1.4.3 in c:\\users\\pakale\\anaconda3\\lib\\site-packages (from -r requirements.txt (line 4)) (1.4.3)\n",
      "Requirement already satisfied: rouge==1.0.1 in c:\\users\\pakale\\anaconda3\\lib\\site-packages (from -r requirements.txt (line 5)) (1.0.1)\n",
      "Requirement already satisfied: sentence-transformers==2.2.2 in c:\\users\\pakale\\anaconda3\\lib\\site-packages (from -r requirements.txt (line 6)) (2.2.2)\n",
      "Collecting transformers==4.30.0\n",
      "  Using cached transformers-4.30.0-py3-none-any.whl (7.2 MB)\n",
      "Requirement already satisfied: nltk==3.6.6 in c:\\users\\pakale\\anaconda3\\lib\\site-packages (from -r requirements.txt (line 8)) (3.6.6)\n",
      "Requirement already satisfied: evaluate==0.4.0 in c:\\users\\pakale\\anaconda3\\lib\\site-packages (from -r requirements.txt (line 9)) (0.4.0)\n",
      "Requirement already satisfied: rouge_score==0.1.2 in c:\\users\\pakale\\anaconda3\\lib\\site-packages (from -r requirements.txt (line 11)) (0.1.2)\n",
      "Requirement already satisfied: rich>=13.3.2 in c:\\users\\pakale\\anaconda3\\lib\\site-packages (from -r requirements.txt (line 12)) (13.5.3)\n",
      "Requirement already satisfied: typing-extensions in c:\\users\\pakale\\anaconda3\\lib\\site-packages (from openai==0.23.0->-r requirements.txt (line 3)) (4.3.0)\n",
      "Requirement already satisfied: requests>=2.20 in c:\\users\\pakale\\anaconda3\\lib\\site-packages (from openai==0.23.0->-r requirements.txt (line 3)) (2.28.1)\n",
      "Requirement already satisfied: openpyxl>=3.0.7 in c:\\users\\pakale\\anaconda3\\lib\\site-packages (from openai==0.23.0->-r requirements.txt (line 3)) (3.0.10)\n",
      "Requirement already satisfied: pandas-stubs>=1.1.0.11 in c:\\users\\pakale\\anaconda3\\lib\\site-packages (from openai==0.23.0->-r requirements.txt (line 3)) (2.0.1.230501)\n",
      "Requirement already satisfied: tqdm in c:\\users\\pakale\\anaconda3\\lib\\site-packages (from openai==0.23.0->-r requirements.txt (line 3)) (4.64.1)\n",
      "Requirement already satisfied: python-dateutil>=2.8.1 in c:\\users\\pakale\\anaconda3\\lib\\site-packages (from pandas==1.4.3->-r requirements.txt (line 4)) (2.8.2)\n",
      "Requirement already satisfied: pytz>=2020.1 in c:\\users\\pakale\\anaconda3\\lib\\site-packages (from pandas==1.4.3->-r requirements.txt (line 4)) (2022.1)\n",
      "Requirement already satisfied: six in c:\\users\\pakale\\anaconda3\\lib\\site-packages (from rouge==1.0.1->-r requirements.txt (line 5)) (1.16.0)\n",
      "Requirement already satisfied: scikit-learn in c:\\users\\pakale\\anaconda3\\lib\\site-packages (from sentence-transformers==2.2.2->-r requirements.txt (line 6)) (1.0.2)\n",
      "Requirement already satisfied: torch>=1.6.0 in c:\\users\\pakale\\anaconda3\\lib\\site-packages (from sentence-transformers==2.2.2->-r requirements.txt (line 6)) (2.0.1)\n",
      "Requirement already satisfied: torchvision in c:\\users\\pakale\\anaconda3\\lib\\site-packages (from sentence-transformers==2.2.2->-r requirements.txt (line 6)) (0.15.2)\n",
      "Requirement already satisfied: scipy in c:\\users\\pakale\\anaconda3\\lib\\site-packages (from sentence-transformers==2.2.2->-r requirements.txt (line 6)) (1.9.1)\n",
      "Requirement already satisfied: sentencepiece in c:\\users\\pakale\\anaconda3\\lib\\site-packages (from sentence-transformers==2.2.2->-r requirements.txt (line 6)) (0.1.99)\n",
      "Collecting tokenizers!=0.11.3,<0.14,>=0.11.1\n",
      "  Downloading tokenizers-0.13.3-cp39-cp39-win_amd64.whl (3.5 MB)\n",
      "     ---------------------------------------- 3.5/3.5 MB 7.9 MB/s eta 0:00:00\n",
      "Requirement already satisfied: regex!=2019.12.17 in c:\\users\\pakale\\anaconda3\\lib\\site-packages (from transformers==4.30.0->-r requirements.txt (line 7)) (2022.7.9)\n",
      "Requirement already satisfied: safetensors>=0.3.1 in c:\\users\\pakale\\anaconda3\\lib\\site-packages (from transformers==4.30.0->-r requirements.txt (line 7)) (0.3.3)\n",
      "Requirement already satisfied: packaging>=20.0 in c:\\users\\pakale\\anaconda3\\lib\\site-packages (from transformers==4.30.0->-r requirements.txt (line 7)) (21.3)\n",
      "Requirement already satisfied: filelock in c:\\users\\pakale\\appdata\\roaming\\python\\python39\\site-packages (from transformers==4.30.0->-r requirements.txt (line 7)) (3.12.4)\n",
      "Requirement already satisfied: pyyaml>=5.1 in c:\\users\\pakale\\anaconda3\\lib\\site-packages (from transformers==4.30.0->-r requirements.txt (line 7)) (6.0)\n",
      "Requirement already satisfied: click in c:\\users\\pakale\\anaconda3\\lib\\site-packages (from nltk==3.6.6->-r requirements.txt (line 8)) (8.0.4)\n",
      "Requirement already satisfied: joblib in c:\\users\\pakale\\anaconda3\\lib\\site-packages (from nltk==3.6.6->-r requirements.txt (line 8)) (1.1.0)\n",
      "Requirement already satisfied: multiprocess in c:\\users\\pakale\\anaconda3\\lib\\site-packages (from evaluate==0.4.0->-r requirements.txt (line 9)) (0.70.15)\n",
      "Requirement already satisfied: dill in c:\\users\\pakale\\anaconda3\\lib\\site-packages (from evaluate==0.4.0->-r requirements.txt (line 9)) (0.3.7)\n",
      "Requirement already satisfied: fsspec[http]>=2021.05.0 in c:\\users\\pakale\\anaconda3\\lib\\site-packages (from evaluate==0.4.0->-r requirements.txt (line 9)) (2023.6.0)\n",
      "Requirement already satisfied: responses<0.19 in c:\\users\\pakale\\anaconda3\\lib\\site-packages (from evaluate==0.4.0->-r requirements.txt (line 9)) (0.18.0)\n",
      "Requirement already satisfied: datasets>=2.0.0 in c:\\users\\pakale\\anaconda3\\lib\\site-packages (from evaluate==0.4.0->-r requirements.txt (line 9)) (2.14.5)\n",
      "Requirement already satisfied: xxhash in c:\\users\\pakale\\anaconda3\\lib\\site-packages (from evaluate==0.4.0->-r requirements.txt (line 9)) (3.3.0)\n",
      "Requirement already satisfied: absl-py in c:\\users\\pakale\\anaconda3\\lib\\site-packages (from rouge_score==0.1.2->-r requirements.txt (line 11)) (1.4.0)\n",
      "Requirement already satisfied: markdown-it-py>=2.2.0 in c:\\users\\pakale\\anaconda3\\lib\\site-packages (from rich>=13.3.2->-r requirements.txt (line 12)) (3.0.0)\n",
      "Requirement already satisfied: pygments<3.0.0,>=2.13.0 in c:\\users\\pakale\\anaconda3\\lib\\site-packages (from rich>=13.3.2->-r requirements.txt (line 12)) (2.16.1)\n",
      "Requirement already satisfied: pyarrow>=8.0.0 in c:\\users\\pakale\\anaconda3\\lib\\site-packages (from datasets>=2.0.0->evaluate==0.4.0->-r requirements.txt (line 9)) (13.0.0)\n",
      "Requirement already satisfied: aiohttp in c:\\users\\pakale\\anaconda3\\lib\\site-packages (from datasets>=2.0.0->evaluate==0.4.0->-r requirements.txt (line 9)) (3.8.5)\n",
      "Requirement already satisfied: mdurl~=0.1 in c:\\users\\pakale\\anaconda3\\lib\\site-packages (from markdown-it-py>=2.2.0->rich>=13.3.2->-r requirements.txt (line 12)) (0.1.2)\n",
      "Requirement already satisfied: et_xmlfile in c:\\users\\pakale\\anaconda3\\lib\\site-packages (from openpyxl>=3.0.7->openai==0.23.0->-r requirements.txt (line 3)) (1.1.0)\n",
      "Requirement already satisfied: pyparsing!=3.0.5,>=2.0.2 in c:\\users\\pakale\\anaconda3\\lib\\site-packages (from packaging>=20.0->transformers==4.30.0->-r requirements.txt (line 7)) (3.0.9)\n",
      "Requirement already satisfied: types-pytz>=2022.1.1 in c:\\users\\pakale\\anaconda3\\lib\\site-packages (from pandas-stubs>=1.1.0.11->openai==0.23.0->-r requirements.txt (line 3)) (2023.3.0.1)\n",
      "Requirement already satisfied: certifi>=2017.4.17 in c:\\users\\pakale\\anaconda3\\lib\\site-packages (from requests>=2.20->openai==0.23.0->-r requirements.txt (line 3)) (2022.9.14)\n",
      "Requirement already satisfied: idna<4,>=2.5 in c:\\users\\pakale\\anaconda3\\lib\\site-packages (from requests>=2.20->openai==0.23.0->-r requirements.txt (line 3)) (3.3)\n",
      "Requirement already satisfied: urllib3<1.27,>=1.21.1 in c:\\users\\pakale\\anaconda3\\lib\\site-packages (from requests>=2.20->openai==0.23.0->-r requirements.txt (line 3)) (1.26.11)\n",
      "Requirement already satisfied: charset-normalizer<3,>=2 in c:\\users\\pakale\\anaconda3\\lib\\site-packages (from requests>=2.20->openai==0.23.0->-r requirements.txt (line 3)) (2.0.4)\n",
      "Requirement already satisfied: networkx in c:\\users\\pakale\\anaconda3\\lib\\site-packages (from torch>=1.6.0->sentence-transformers==2.2.2->-r requirements.txt (line 6)) (2.8.4)\n",
      "Requirement already satisfied: sympy in c:\\users\\pakale\\anaconda3\\lib\\site-packages (from torch>=1.6.0->sentence-transformers==2.2.2->-r requirements.txt (line 6)) (1.10.1)\n",
      "Requirement already satisfied: jinja2 in c:\\users\\pakale\\anaconda3\\lib\\site-packages (from torch>=1.6.0->sentence-transformers==2.2.2->-r requirements.txt (line 6)) (2.11.3)\n",
      "Requirement already satisfied: colorama in c:\\users\\pakale\\anaconda3\\lib\\site-packages (from tqdm->openai==0.23.0->-r requirements.txt (line 3)) (0.4.6)\n",
      "Requirement already satisfied: threadpoolctl>=2.0.0 in c:\\users\\pakale\\anaconda3\\lib\\site-packages (from scikit-learn->sentence-transformers==2.2.2->-r requirements.txt (line 6)) (2.2.0)\n",
      "Requirement already satisfied: pillow!=8.3.*,>=5.3.0 in c:\\users\\pakale\\anaconda3\\lib\\site-packages (from torchvision->sentence-transformers==2.2.2->-r requirements.txt (line 6)) (9.2.0)\n",
      "Requirement already satisfied: async-timeout<5.0,>=4.0.0a3 in c:\\users\\pakale\\anaconda3\\lib\\site-packages (from aiohttp->datasets>=2.0.0->evaluate==0.4.0->-r requirements.txt (line 9)) (4.0.3)\n",
      "Requirement already satisfied: frozenlist>=1.1.1 in c:\\users\\pakale\\anaconda3\\lib\\site-packages (from aiohttp->datasets>=2.0.0->evaluate==0.4.0->-r requirements.txt (line 9)) (1.4.0)\n",
      "Requirement already satisfied: aiosignal>=1.1.2 in c:\\users\\pakale\\anaconda3\\lib\\site-packages (from aiohttp->datasets>=2.0.0->evaluate==0.4.0->-r requirements.txt (line 9)) (1.3.1)\n",
      "Requirement already satisfied: attrs>=17.3.0 in c:\\users\\pakale\\anaconda3\\lib\\site-packages (from aiohttp->datasets>=2.0.0->evaluate==0.4.0->-r requirements.txt (line 9)) (21.4.0)\n",
      "Requirement already satisfied: yarl<2.0,>=1.0 in c:\\users\\pakale\\anaconda3\\lib\\site-packages (from aiohttp->datasets>=2.0.0->evaluate==0.4.0->-r requirements.txt (line 9)) (1.9.2)\n",
      "Requirement already satisfied: multidict<7.0,>=4.5 in c:\\users\\pakale\\anaconda3\\lib\\site-packages (from aiohttp->datasets>=2.0.0->evaluate==0.4.0->-r requirements.txt (line 9)) (6.0.4)\n",
      "Requirement already satisfied: MarkupSafe>=0.23 in c:\\users\\pakale\\anaconda3\\lib\\site-packages (from jinja2->torch>=1.6.0->sentence-transformers==2.2.2->-r requirements.txt (line 6)) (2.0.1)\n",
      "Requirement already satisfied: mpmath>=0.19 in c:\\users\\pakale\\anaconda3\\lib\\site-packages (from sympy->torch>=1.6.0->sentence-transformers==2.2.2->-r requirements.txt (line 6)) (1.2.1)\n",
      "Installing collected packages: tokenizers, transformers\n",
      "  Attempting uninstall: tokenizers\n",
      "    Found existing installation: tokenizers 0.14.1\n",
      "    Uninstalling tokenizers-0.14.1:\n",
      "      Successfully uninstalled tokenizers-0.14.1\n"
     ]
    },
    {
     "name": "stderr",
     "output_type": "stream",
     "text": [
      "ERROR: Could not install packages due to an OSError: [WinError 5] Access is denied: 'C:\\\\Users\\\\pakale\\\\Anaconda3\\\\Lib\\\\site-packages\\\\~-kenizers\\\\tokenizers.cp39-win_amd64.pyd'\n",
      "Consider using the `--user` option or check the permissions.\n",
      "\n"
     ]
    }
   ],
   "source": [
    "!pip install -r requirements.txt"
   ]
  },
  {
   "cell_type": "code",
   "execution_count": null,
   "id": "ddeed653",
   "metadata": {},
   "outputs": [],
   "source": []
  },
  {
   "cell_type": "code",
   "execution_count": 2,
   "id": "a634a020",
   "metadata": {},
   "outputs": [],
   "source": [
    "#https://huggingface.co/nlpconnect/vit-gpt2-image-captioning"
   ]
  },
  {
   "cell_type": "code",
   "execution_count": 3,
   "id": "c49d24c6",
   "metadata": {},
   "outputs": [
    {
     "name": "stderr",
     "output_type": "stream",
     "text": [
      "Could not find image processor class in the image processor config or the model config. Loading based on pattern matching with the model's feature extractor configuration.\n"
     ]
    }
   ],
   "source": [
    "from transformers import pipeline\n",
    "image_to_text = pipeline(\"image-to-text\", model=\"nlpconnect/vit-gpt2-image-captioning\")"
   ]
  },
  {
   "cell_type": "code",
   "execution_count": 18,
   "id": "d0ae1bbb",
   "metadata": {},
   "outputs": [
    {
     "name": "stderr",
     "output_type": "stream",
     "text": [
      "Could not find image processor class in the image processor config or the model config. Loading based on pattern matching with the model's feature extractor configuration.\n",
      "100%|██████████████████████████████████████████████████████████████████████████| 11208/11208 [8:29:16<00:00,  2.73s/it]\n"
     ]
    }
   ],
   "source": [
    "from transformers import pipeline\n",
    "from tqdm import tqdm\n",
    "import os\n",
    "import json\n",
    "\n",
    "image_to_text = pipeline(\"image-to-text\", model=\"nlpconnect/vit-gpt2-image-captioning\")\n",
    "\n",
    "data_root = \"data/images\"\n",
    "output_dir = \"data/instruct_captions_nlpconnect_vit-gpt2-image-captioning.json\"\n",
    "\n",
    "all_images = os.listdir(data_root)\n",
    "all_images.sort(key=lambda x:int(x))\n",
    "\n",
    "name_map = {}\n",
    "\n",
    "for image in tqdm(all_images):\n",
    "    if os.path.exists(os.path.join(data_root, image, \"image.png\")):\n",
    "        curr_dir = os.path.join(data_root, image, \"image.png\")\n",
    "        image_caption = image_to_text(curr_dir)\n",
    "        image_caption = image_caption[0]['generated_text']\n",
    "        name_map[str(image)] = image_caption\n",
    "        \n",
    "with open(output_dir, 'w') as outfile:\n",
    "    json.dump(name_map, outfile, indent=2)"
   ]
  },
  {
   "cell_type": "code",
   "execution_count": null,
   "id": "98d3dde5",
   "metadata": {},
   "outputs": [],
   "source": []
  },
  {
   "cell_type": "code",
   "execution_count": null,
   "id": "d7f2ef1a",
   "metadata": {},
   "outputs": [],
   "source": []
  },
  {
   "cell_type": "code",
   "execution_count": 6,
   "id": "a4d22321",
   "metadata": {},
   "outputs": [],
   "source": [
    "# https://huggingface.co/Salesforce/blip-image-captioning-large"
   ]
  },
  {
   "cell_type": "code",
   "execution_count": 1,
   "id": "b6213536",
   "metadata": {},
   "outputs": [
    {
     "name": "stderr",
     "output_type": "stream",
     "text": [
      "  0%|                                                                                         | 0/6757 [00:00<?, ?it/s]C:\\Users\\pakale\\Anaconda3\\lib\\site-packages\\transformers\\generation\\utils.py:1260: UserWarning: Using the model-agnostic default `max_length` (=20) to control the generation length. We recommend setting `max_new_tokens` to control the maximum length of the generation.\n",
      "  warnings.warn(\n",
      "  0%|                                                                              | 1/6757 [00:05<10:34:19,  5.63s/it]C:\\Users\\pakale\\Anaconda3\\lib\\site-packages\\transformers\\generation\\utils.py:1260: UserWarning: Using the model-agnostic default `max_length` (=20) to control the generation length. We recommend setting `max_new_tokens` to control the maximum length of the generation.\n",
      "  warnings.warn(\n",
      "100%|███████████████████████████████████████████████████████████████████████████| 6757/6757 [14:06:06<00:00,  7.51s/it]\n"
     ]
    }
   ],
   "source": [
    "import requests\n",
    "from PIL import Image\n",
    "from transformers import BlipProcessor, BlipForConditionalGeneration\n",
    "from tqdm import tqdm\n",
    "import os\n",
    "import json\n",
    "\n",
    "processor = BlipProcessor.from_pretrained(\"Salesforce/blip-image-captioning-large\")\n",
    "model = BlipForConditionalGeneration.from_pretrained(\"Salesforce/blip-image-captioning-large\")\n",
    "\n",
    "data_root = \"data/train\"\n",
    "output_dir = \"data/instruct_captions_Salesforce_blip-image-captioning-large_train.json\"\n",
    "\n",
    "all_images = os.listdir(data_root)\n",
    "all_images.sort(key=lambda x:int(x))\n",
    "\n",
    "name_map = {}\n",
    "\n",
    "for image in tqdm(all_images):\n",
    "    if os.path.exists(os.path.join(data_root, image, \"image.png\")):\n",
    "        curr_dir = os.path.join(data_root, image, \"image.png\")\n",
    "        raw_image = Image.open(curr_dir).convert('RGB')\n",
    "        inputs = processor(raw_image, return_tensors=\"pt\")\n",
    "        out = model.generate(**inputs)\n",
    "        image_caption = processor.decode(out[0], skip_special_tokens=True)\n",
    "        name_map[str(image)] = image_caption\n",
    "\n",
    "\n",
    "with open(output_dir, 'w') as outfile:\n",
    "    json.dump(name_map, outfile, indent=2)"
   ]
  },
  {
   "cell_type": "code",
   "execution_count": null,
   "id": "ce94bcc8",
   "metadata": {},
   "outputs": [],
   "source": []
  },
  {
   "cell_type": "code",
   "execution_count": null,
   "id": "e1f976aa",
   "metadata": {},
   "outputs": [],
   "source": []
  },
  {
   "cell_type": "code",
   "execution_count": null,
   "id": "b202e639",
   "metadata": {},
   "outputs": [],
   "source": []
  }
 ],
 "metadata": {
  "kernelspec": {
   "display_name": "Python 3 (ipykernel)",
   "language": "python",
   "name": "python3"
  },
  "language_info": {
   "codemirror_mode": {
    "name": "ipython",
    "version": 3
   },
   "file_extension": ".py",
   "mimetype": "text/x-python",
   "name": "python",
   "nbconvert_exporter": "python",
   "pygments_lexer": "ipython3",
   "version": "3.9.13"
  }
 },
 "nbformat": 4,
 "nbformat_minor": 5
}
