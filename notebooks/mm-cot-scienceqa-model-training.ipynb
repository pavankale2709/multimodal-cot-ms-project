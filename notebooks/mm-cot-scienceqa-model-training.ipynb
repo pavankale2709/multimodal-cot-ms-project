{
 "cells": [
  {
   "cell_type": "code",
   "execution_count": 11,
   "id": "a3b11fca",
   "metadata": {},
   "outputs": [],
   "source": [
    "#!pip install accelerate -U"
   ]
  },
  {
   "cell_type": "code",
   "execution_count": null,
   "id": "436b211a",
   "metadata": {},
   "outputs": [],
   "source": [
    "# VIT\n",
    "!python main.py --data_root data --caption_file data/instruct_captions.json --model declare-lab/flan-alpaca-base --user_msg rationale --img_type vit --bs 2 --eval_bs 4 --epoch 20 --lr 5e-5 --output_len 512 --use_caption --use_generate --prompt_format QCM-E --output_dir experiments"
   ]
  },
  {
   "cell_type": "code",
   "execution_count": null,
   "id": "b692b106",
   "metadata": {},
   "outputs": [],
   "source": [
    "# DETR\n",
    "!python main.py --data_root data --caption_file data/instruct_captions.json --model declare-lab/flan-alpaca-base --user_msg rationale --img_type detr --bs 2 --eval_bs 4 --epoch 20 --lr 5e-5 --output_len 512 --use_caption --use_generate --prompt_format QCM-E --output_dir experiments"
   ]
  },
  {
   "cell_type": "code",
   "execution_count": null,
   "id": "c20ec3b1",
   "metadata": {},
   "outputs": [],
   "source": [
    "# CLIP\n",
    "!python main.py --data_root data --caption_file data/instruct_captions.json --model declare-lab/flan-alpaca-base --user_msg rationale --img_type clip --bs 2 --eval_bs 4 --epoch 20 --lr 5e-5 --output_len 512 --use_caption --use_generate --prompt_format QCM-E --output_dir experiments"
   ]
  },
  {
   "cell_type": "code",
   "execution_count": null,
   "id": "b6842c34",
   "metadata": {},
   "outputs": [],
   "source": [
    "# RESNET\n",
    "!python main.py --data_root data --caption_file data/instruct_captions.json --model declare-lab/flan-alpaca-base --user_msg rationale --img_type resnet --bs 2 --eval_bs 4 --epoch 20 --lr 5e-5 --output_len 512 --use_caption --use_generate --prompt_format QCM-E --output_dir experiments"
   ]
  },
  {
   "cell_type": "code",
   "execution_count": null,
   "id": "a4219256",
   "metadata": {},
   "outputs": [],
   "source": []
  }
 ],
 "metadata": {
  "kernelspec": {
   "display_name": "Python 3 (ipykernel)",
   "language": "python",
   "name": "python3"
  },
  "language_info": {
   "codemirror_mode": {
    "name": "ipython",
    "version": 3
   },
   "file_extension": ".py",
   "mimetype": "text/x-python",
   "name": "python",
   "nbconvert_exporter": "python",
   "pygments_lexer": "ipython3",
   "version": "3.9.13"
  }
 },
 "nbformat": 4,
 "nbformat_minor": 5
}
